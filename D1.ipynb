{
  "nbformat": 4,
  "nbformat_minor": 0,
  "metadata": {
    "colab": {
      "provenance": [],
      "authorship_tag": "ABX9TyMyBJB9h2GyibyjPug2JJEu",
      "include_colab_link": true
    },
    "kernelspec": {
      "name": "python3",
      "display_name": "Python 3"
    },
    "language_info": {
      "name": "python"
    }
  },
  "cells": [
    {
      "cell_type": "markdown",
      "metadata": {
        "id": "view-in-github",
        "colab_type": "text"
      },
      "source": [
        "<a href=\"https://colab.research.google.com/github/Ramisetty-shasank-teja/intelligence/blob/main/D1.ipynb\" target=\"_parent\"><img src=\"https://colab.research.google.com/assets/colab-badge.svg\" alt=\"Open In Colab\"/></a>"
      ]
    },
    {
      "cell_type": "code",
      "execution_count": 2,
      "metadata": {
        "colab": {
          "base_uri": "https://localhost:8080/"
        },
        "id": "6nX4pxZVhTh1",
        "outputId": "f8fb3304-4184-41d4-9e50-49989bd99ee7"
      },
      "outputs": [
        {
          "output_type": "stream",
          "name": "stdout",
          "text": [
            "[1, 3]\n"
          ]
        }
      ],
      "source": [
        "#Find all repeating elements in an array\n",
        "\n",
        "class Solution:\n",
        "    def repeating(self,nums):\n",
        "        freq={}\n",
        "        repeats=[]\n",
        "\n",
        "        for num in nums:\n",
        "            freq[num]=freq.get(num,0)+1\n",
        "\n",
        "        for num,count in freq.items():\n",
        "            if count > 1:\n",
        "                repeats.append(num)\n",
        "        return repeats\n",
        "\n",
        "nums=[1,2,3,1,4,3]\n",
        "s=Solution()\n",
        "print(s.repeating(nums))"
      ]
    }
  ]
}