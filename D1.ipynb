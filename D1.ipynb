{
  "nbformat": 4,
  "nbformat_minor": 0,
  "metadata": {
    "colab": {
      "provenance": [],
      "authorship_tag": "ABX9TyPa+/tEOanzwrWczRhqzc+R",
      "include_colab_link": true
    },
    "kernelspec": {
      "name": "python3",
      "display_name": "Python 3"
    },
    "language_info": {
      "name": "python"
    }
  },
  "cells": [
    {
      "cell_type": "markdown",
      "metadata": {
        "id": "view-in-github",
        "colab_type": "text"
      },
      "source": [
        "<a href=\"https://colab.research.google.com/github/Ramisetty-shasank-teja/intelligence/blob/main/D1.ipynb\" target=\"_parent\"><img src=\"https://colab.research.google.com/assets/colab-badge.svg\" alt=\"Open In Colab\"/></a>"
      ]
    },
    {
      "cell_type": "code",
      "source": [
        "#Search an element in an array\n",
        "\n",
        "\n",
        "def searchIndex(arr,target):\n",
        "\n",
        "    for i,na in enumerate(arr):\n",
        "\n",
        "        if na==target:\n",
        "            return i\n",
        "\n",
        "    return -1\n",
        "\n",
        "arr=[1,2,3,4,5]\n",
        "print(searchIndex(arr,5))"
      ],
      "metadata": {
        "colab": {
          "base_uri": "https://localhost:8080/"
        },
        "id": "OGxa_kyCqmpU",
        "outputId": "aa8a8f2f-a57b-4433-f8b5-8e8f8b7596e1"
      },
      "execution_count": 4,
      "outputs": [
        {
          "output_type": "stream",
          "name": "stdout",
          "text": [
            "4\n"
          ]
        }
      ]
    },
    {
      "cell_type": "code",
      "source": [
        "#Check if Array is a subset of another array or not\n",
        "\n",
        "def check(arr1,arr2):\n",
        "    set1=set(arr1)\n",
        "\n",
        "    for ele in arr2:\n",
        "        if ele not in set1:\n",
        "            return False\n",
        "    return True\n",
        "\n",
        "\n",
        "ele1=[1,2,3,7,4,6,5]\n",
        "ele2=[3,4,5,6]\n",
        "print(check(ele1,ele2))"
      ],
      "metadata": {
        "colab": {
          "base_uri": "https://localhost:8080/"
        },
        "id": "d5_SFMzWiZHc",
        "outputId": "f151d4f7-73f2-44be-ec4d-8b1446f57798"
      },
      "execution_count": 2,
      "outputs": [
        {
          "output_type": "stream",
          "name": "stdout",
          "text": [
            "True\n"
          ]
        }
      ]
    },
    {
      "cell_type": "code",
      "execution_count": null,
      "metadata": {
        "colab": {
          "base_uri": "https://localhost:8080/"
        },
        "id": "6nX4pxZVhTh1",
        "outputId": "f8fb3304-4184-41d4-9e50-49989bd99ee7"
      },
      "outputs": [
        {
          "output_type": "stream",
          "name": "stdout",
          "text": [
            "[1, 3]\n"
          ]
        }
      ],
      "source": [
        "#Find all repeating elements in an array\n",
        "\n",
        "class Solution:\n",
        "    def repeating(self,nums):\n",
        "        freq={}\n",
        "        repeats=[]\n",
        "\n",
        "        for num in nums:\n",
        "            freq[num]=freq.get(num,0)+1\n",
        "\n",
        "        for num,count in freq.items():\n",
        "            if count > 1:\n",
        "                repeats.append(num)\n",
        "        return repeats\n",
        "\n",
        "nums=[1,2,3,1,4,3]\n",
        "s=Solution()\n",
        "print(s.repeating(nums))"
      ]
    }
  ]
}